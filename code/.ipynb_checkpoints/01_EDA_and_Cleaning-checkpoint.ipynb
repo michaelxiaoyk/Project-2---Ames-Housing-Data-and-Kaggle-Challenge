{
 "cells": [
  {
   "cell_type": "markdown",
   "metadata": {},
   "source": [
    "## Problem Statement\n",
    "\n",
    "#### What features drive the price of houses in Ames, Iowa and where are they located?\n",
    "TL;DR\n",
    "Linear Regression, LASSO and Ridge models will be developed to see which features have the most significant effect on the price of a house.\n",
    "\n",
    "\n",
    "We will be comparing against the linear regression and the LASSO model of our data to determine which model fared better. A better model is one with lesser features (with high coefficients) and ideally a high R-squared. R-squared can be perceive as the proportion of the variance in the dependent variable that is predictable from the independent variable."
   ]
  },
  {
   "cell_type": "code",
   "execution_count": null,
   "metadata": {},
   "outputs": [],
   "source": [
    "import pandas as pd\n",
    "import numpy as np\n",
    "import matplotlib.pyplot as plt\n",
    "%matplotlib inline\n",
    "import seaborn as sns\n",
    "\n",
    "from sklearn.model_selection import train_test_split, cross_val_score\n",
    "from sklearn.linear_model import LinearRegression, Lasso, LassoCV, RidgeCV\n",
    "from sklearn.preprocessing import StandardScaler\n",
    "from sklearn.metrics import r2_score\n",
    "\n",
    "from scipy.stats import skew"
   ]
  },
  {
   "cell_type": "code",
   "execution_count": null,
   "metadata": {},
   "outputs": [],
   "source": [
    "pd.set_option('display.width', 500)\n",
    "pd.set_option('display.max_rows', 500)\n",
    "pd.set_option('display.max_columns', 120)"
   ]
  },
  {
   "cell_type": "code",
   "execution_count": null,
   "metadata": {},
   "outputs": [],
   "source": [
    "train = pd.read_csv('train.csv')"
   ]
  },
  {
   "cell_type": "code",
   "execution_count": null,
   "metadata": {},
   "outputs": [],
   "source": [
    "test = pd.read_csv('test.csv')"
   ]
  },
  {
   "cell_type": "code",
   "execution_count": null,
   "metadata": {
    "scrolled": true
   },
   "outputs": [],
   "source": [
    "train_test = pd.concat([train, test], sort=False)\n",
    "train_test.reset_index(drop=True, inplace=True)"
   ]
  },
  {
   "cell_type": "code",
   "execution_count": null,
   "metadata": {},
   "outputs": [],
   "source": [
    "train_test.to_csv('./train_test.csv')"
   ]
  },
  {
   "cell_type": "code",
   "execution_count": null,
   "metadata": {},
   "outputs": [],
   "source": [
    "train_test.describe().T\n",
    "#Lot Frontage, Mass Vnr Area, BsmtFin SF 1, BsmtFin SF 2, \n",
    "#Bsmt Unf SF, Total Bsmt SF, Bsmt Full Bath, Bsmt Half Bath, Garage Yr Blt, Garage Cars, Garage Area, SalePrice"
   ]
  },
  {
   "cell_type": "markdown",
   "metadata": {},
   "source": [
    "#### Correcting Lot Frontage"
   ]
  },
  {
   "cell_type": "code",
   "execution_count": null,
   "metadata": {},
   "outputs": [],
   "source": [
    "train_test[train_test['Lot Frontage'].isnull()].head()"
   ]
  },
  {
   "cell_type": "code",
   "execution_count": null,
   "metadata": {},
   "outputs": [],
   "source": [
    "train_test['Lot Frontage'].fillna(train_test['Lot Frontage'].median(), inplace=True) \n",
    "# Replace NaN values with mean value of Lot Frontage"
   ]
  },
  {
   "cell_type": "code",
   "execution_count": null,
   "metadata": {},
   "outputs": [],
   "source": [
    "train_test[train_test['Lot Frontage'].isnull()] #double check for NaN values"
   ]
  },
  {
   "cell_type": "markdown",
   "metadata": {},
   "source": [
    "##### Correcting Bsmt Features"
   ]
  },
  {
   "cell_type": "code",
   "execution_count": null,
   "metadata": {},
   "outputs": [],
   "source": [
    "train_test[train_test['Bsmt Cond'].isnull()]"
   ]
  },
  {
   "cell_type": "code",
   "execution_count": null,
   "metadata": {},
   "outputs": [],
   "source": [
    "train_test['Bsmt Cond'].fillna('NA', inplace=True)\n",
    "train_test['Bsmt Qual'].fillna('NA', inplace=True)\n",
    "train_test['Bsmt Exposure'].fillna('NA', inplace=True)\n",
    "train_test['BsmtFin Type 1'].fillna('NA', inplace=True)\n",
    "train_test['BsmtFin Type 2'].fillna('NA', inplace=True)"
   ]
  },
  {
   "cell_type": "code",
   "execution_count": null,
   "metadata": {},
   "outputs": [],
   "source": [
    "train_test.loc[[1327], ['Bsmt Cond']] #1327 do not have a basement as Bsmt Cond is NaN"
   ]
  },
  {
   "cell_type": "code",
   "execution_count": null,
   "metadata": {},
   "outputs": [],
   "source": [
    "train_test[train_test['Bsmt Unf SF'].isnull()].tail() "
   ]
  },
  {
   "cell_type": "code",
   "execution_count": null,
   "metadata": {},
   "outputs": [],
   "source": [
    "train_test[train_test['BsmtFin SF 1'].isnull()].tail() "
   ]
  },
  {
   "cell_type": "code",
   "execution_count": null,
   "metadata": {},
   "outputs": [],
   "source": [
    "train_test[train_test['BsmtFin SF 2'].isnull()].tail() # index 1327 has null values in Bsmt variables"
   ]
  },
  {
   "cell_type": "code",
   "execution_count": null,
   "metadata": {},
   "outputs": [],
   "source": [
    "train_test[train_test['Bsmt Half Bath'].isnull()].tail() "
   ]
  },
  {
   "cell_type": "code",
   "execution_count": null,
   "metadata": {},
   "outputs": [],
   "source": [
    "train_test[train_test['Bsmt Full Bath'].isnull()].tail()"
   ]
  },
  {
   "cell_type": "code",
   "execution_count": null,
   "metadata": {},
   "outputs": [],
   "source": [
    "train_test[train_test['Total Bsmt SF'].isnull()].tail()"
   ]
  },
  {
   "cell_type": "code",
   "execution_count": null,
   "metadata": {},
   "outputs": [],
   "source": [
    "train_test.loc[[616], ['Bsmt Cond']]"
   ]
  },
  {
   "cell_type": "code",
   "execution_count": null,
   "metadata": {},
   "outputs": [],
   "source": [
    "train_test['Bsmt Unf SF'].fillna(0, inplace=True) \n",
    "train_test['BsmtFin SF 1'].fillna(0, inplace=True) \n",
    "train_test['BsmtFin SF 2'].fillna(0, inplace=True) \n",
    "#As 1327 do not have a basement, NaN values are filled with 0 value\n",
    "train_test['Bsmt Half Bath'].fillna(0, inplace=True)\n",
    "train_test['Bsmt Full Bath'].fillna(0, inplace=True)\n",
    "train_test['Total Bsmt SF'].fillna(0, inplace=True)\n",
    "# 0 values were mistakenly filled with NaN; Typo"
   ]
  },
  {
   "cell_type": "code",
   "execution_count": null,
   "metadata": {
    "scrolled": true
   },
   "outputs": [],
   "source": [
    "train_test[train_test['Bsmt Cond'] == 'None']"
   ]
  },
  {
   "cell_type": "code",
   "execution_count": null,
   "metadata": {},
   "outputs": [],
   "source": [
    "train_test[train_test['Bsmt Qual'] == 'NA']"
   ]
  },
  {
   "cell_type": "code",
   "execution_count": null,
   "metadata": {},
   "outputs": [],
   "source": [
    "train_test[train_test['Bsmt Exposure'] == 'NA']"
   ]
  },
  {
   "cell_type": "code",
   "execution_count": null,
   "metadata": {},
   "outputs": [],
   "source": [
    "train_test[train_test['BsmtFin Type 1'] == 'NA']"
   ]
  },
  {
   "cell_type": "code",
   "execution_count": null,
   "metadata": {},
   "outputs": [],
   "source": [
    "train_test[train_test['BsmtFin Type 2'] == 'NA']"
   ]
  },
  {
   "cell_type": "code",
   "execution_count": null,
   "metadata": {
    "scrolled": true
   },
   "outputs": [],
   "source": [
    "mask1 = train_test['Bsmt Cond'] == 'NA'\n",
    "mask2 = train_test['Bsmt Qual'] == 'NA'\n",
    "mask3 = train_test['Bsmt Exposure'] == 'NA'\n",
    "mask4 = train_test['BsmtFin Type 1'] == 'NA'\n",
    "mask5 = train_test['BsmtFin Type 2'] == 'NA'\n",
    "train_test[mask3^mask1][['Bsmt Cond', 'Bsmt Exposure']]"
   ]
  },
  {
   "cell_type": "code",
   "execution_count": null,
   "metadata": {},
   "outputs": [],
   "source": [
    "train_test[mask4^mask1][['Bsmt Cond', 'BsmtFin Type 1']]"
   ]
  },
  {
   "cell_type": "code",
   "execution_count": null,
   "metadata": {},
   "outputs": [],
   "source": [
    "train_test[mask5^mask1][['Bsmt Cond', 'BsmtFin Type 2']]"
   ]
  },
  {
   "cell_type": "code",
   "execution_count": null,
   "metadata": {},
   "outputs": [],
   "source": [
    "train_test.loc[[1456, 1547, 1997], ['Bsmt Exposure', 'BsmtFin Type 1', 'BsmtFin Type 2']] = 'No'\n",
    "#Change NA values to 'No'"
   ]
  },
  {
   "cell_type": "code",
   "execution_count": null,
   "metadata": {},
   "outputs": [],
   "source": [
    "train_test.loc[[1456, 1547, 1997], ['Bsmt Exposure', 'BsmtFin Type 1', 'BsmtFin Type 2']]"
   ]
  },
  {
   "cell_type": "markdown",
   "metadata": {},
   "source": [
    "###### Summary for Bsmt:\n",
    "1. Fill all NaN values with 'NA' \n",
    "2. Fill index 1327 and 616 with zero values as they do not have a basement\n",
    "3. Rectify values that have been classified as 'NA' when actual value is 'No'"
   ]
  },
  {
   "cell_type": "markdown",
   "metadata": {},
   "source": [
    "##### Correcting Fireplace Qu"
   ]
  },
  {
   "cell_type": "code",
   "execution_count": null,
   "metadata": {},
   "outputs": [],
   "source": [
    "train_test[['Fireplaces', 'Fireplace Qu']]"
   ]
  },
  {
   "cell_type": "code",
   "execution_count": null,
   "metadata": {},
   "outputs": [],
   "source": [
    "train_test['Fireplace Qu'].fillna('NA', inplace=True)"
   ]
  },
  {
   "cell_type": "code",
   "execution_count": null,
   "metadata": {},
   "outputs": [],
   "source": [
    "mask1 = train_test['Fireplace Qu'] == 'NA'\n",
    "mask2 = train_test['Fireplaces'] != 0\n",
    "train_test[mask1&2][['Fireplaces', 'Fireplace Qu']]\n",
    "#Double check with Fireplaces to ensure data is accurate"
   ]
  },
  {
   "cell_type": "markdown",
   "metadata": {},
   "source": [
    "##### Correcting Alley"
   ]
  },
  {
   "cell_type": "code",
   "execution_count": null,
   "metadata": {},
   "outputs": [],
   "source": [
    "train_test['Alley'].fillna('NA', inplace=True)"
   ]
  },
  {
   "cell_type": "markdown",
   "metadata": {},
   "source": [
    "##### Correcting Garage Features"
   ]
  },
  {
   "cell_type": "code",
   "execution_count": null,
   "metadata": {},
   "outputs": [],
   "source": [
    "train_test[['Garage Finish', 'Garage Qual', 'Garage Cond']]"
   ]
  },
  {
   "cell_type": "code",
   "execution_count": null,
   "metadata": {},
   "outputs": [],
   "source": [
    "train_test['Garage Finish'].fillna('NA', inplace=True)\n",
    "train_test['Garage Qual'].fillna('NA', inplace=True)\n",
    "train_test['Garage Cond'].fillna('NA', inplace=True)\n",
    "train_test['Garage Type'].fillna('NA', inplace=True)"
   ]
  },
  {
   "cell_type": "code",
   "execution_count": null,
   "metadata": {},
   "outputs": [],
   "source": [
    "train_test[train_test['Garage Yr Blt'].isnull()]"
   ]
  },
  {
   "cell_type": "code",
   "execution_count": null,
   "metadata": {},
   "outputs": [],
   "source": [
    "train_test['Garage Yr Blt'].fillna('2005', inplace=True)\n",
    "#fill NaN values with mode"
   ]
  },
  {
   "cell_type": "code",
   "execution_count": null,
   "metadata": {},
   "outputs": [],
   "source": [
    "train_test[train_test['Garage Cars'].isnull()]"
   ]
  },
  {
   "cell_type": "code",
   "execution_count": null,
   "metadata": {},
   "outputs": [],
   "source": [
    "train_test.loc[[1712], ['Garage Finish']]"
   ]
  },
  {
   "cell_type": "code",
   "execution_count": null,
   "metadata": {},
   "outputs": [],
   "source": [
    "train_test['Garage Cars'].fillna(0, inplace=True)\n",
    "train_test['Garage Area'].fillna(0, inplace=True)\n",
    "#As 1712 have no garage, garage cars and garage area will take on 0 value"
   ]
  },
  {
   "cell_type": "code",
   "execution_count": null,
   "metadata": {},
   "outputs": [],
   "source": [
    "train_test.loc[[1699], ['Garage Yr Blt']]"
   ]
  },
  {
   "cell_type": "code",
   "execution_count": null,
   "metadata": {},
   "outputs": [],
   "source": [
    "train_test.loc[1699, 'Garage Yr Blt'] = 2007"
   ]
  },
  {
   "cell_type": "code",
   "execution_count": null,
   "metadata": {},
   "outputs": [],
   "source": [
    "train_test[['Garage Finish', 'Garage Qual', 'Garage Cond', 'Garage Cars', 'Garage Area', 'Garage Yr Blt', 'Garage Type']].isnull().sum()"
   ]
  },
  {
   "cell_type": "code",
   "execution_count": null,
   "metadata": {},
   "outputs": [],
   "source": []
  },
  {
   "cell_type": "markdown",
   "metadata": {},
   "source": [
    "#### Correcting Electrical feature"
   ]
  },
  {
   "cell_type": "code",
   "execution_count": null,
   "metadata": {},
   "outputs": [],
   "source": [
    "train_test.Electrical.mode()"
   ]
  },
  {
   "cell_type": "code",
   "execution_count": null,
   "metadata": {},
   "outputs": [],
   "source": [
    "train_test['Electrical'].fillna('SBrkr', inplace=True) \n",
    "#putting mode into missing value"
   ]
  },
  {
   "cell_type": "markdown",
   "metadata": {},
   "source": [
    "#### Correcting Pool QC"
   ]
  },
  {
   "cell_type": "code",
   "execution_count": null,
   "metadata": {},
   "outputs": [],
   "source": [
    "train_test['Pool QC']"
   ]
  },
  {
   "cell_type": "code",
   "execution_count": null,
   "metadata": {},
   "outputs": [],
   "source": [
    "train_test['Pool QC'].fillna('NA', inplace=True)"
   ]
  },
  {
   "cell_type": "code",
   "execution_count": null,
   "metadata": {},
   "outputs": [],
   "source": [
    "mask1 = train_test['Pool QC'] == 'NA'\n",
    "mask2 = train_test['Pool Area'] != 0\n",
    "train_test[mask1&mask2][['Pool QC', 'Pool Area']]"
   ]
  },
  {
   "cell_type": "code",
   "execution_count": null,
   "metadata": {},
   "outputs": [],
   "source": [
    "train_test['Fence']"
   ]
  },
  {
   "cell_type": "code",
   "execution_count": null,
   "metadata": {},
   "outputs": [],
   "source": [
    "train_test['Fence'].fillna('NA', inplace=True)"
   ]
  },
  {
   "cell_type": "markdown",
   "metadata": {},
   "source": [
    "#### Correcting Misc Feature"
   ]
  },
  {
   "cell_type": "code",
   "execution_count": null,
   "metadata": {},
   "outputs": [],
   "source": [
    "train_test['Misc Feature']"
   ]
  },
  {
   "cell_type": "code",
   "execution_count": null,
   "metadata": {},
   "outputs": [],
   "source": [
    "train_test['Misc Feature'].fillna('NA', inplace=True)"
   ]
  },
  {
   "cell_type": "code",
   "execution_count": null,
   "metadata": {},
   "outputs": [],
   "source": [
    "mask1 = train_test['Misc Feature'] == 'NA'\n",
    "mask2 = train_test['Misc Val'] != 0\n",
    "train_test[mask1&mask2][['Misc Feature', 'Misc Val']]"
   ]
  },
  {
   "cell_type": "markdown",
   "metadata": {},
   "source": [
    "#### Correcting Mas Vnr Values"
   ]
  },
  {
   "cell_type": "code",
   "execution_count": null,
   "metadata": {},
   "outputs": [],
   "source": [
    "train_test[train_test['Mas Vnr Type'].isnull()]"
   ]
  },
  {
   "cell_type": "code",
   "execution_count": null,
   "metadata": {},
   "outputs": [],
   "source": [
    "train_test[train_test['Mas Vnr Area'].isnull()]"
   ]
  },
  {
   "cell_type": "code",
   "execution_count": null,
   "metadata": {},
   "outputs": [],
   "source": [
    "train_test['Mas Vnr Type'].fillna('None', inplace=True)\n",
    "train_test['Mas Vnr Area'].fillna(0, inplace=True)"
   ]
  },
  {
   "cell_type": "code",
   "execution_count": null,
   "metadata": {
    "scrolled": true
   },
   "outputs": [],
   "source": [
    "mask1= train_test['Mas Vnr Area']>1\n",
    "mask2=train_test['Mas Vnr Type']==\"None\"\n",
    "train_test[mask1&mask2][['Mas Vnr Area', 'Mas Vnr Type']]\n",
    "#need to change Mas Vnr Type"
   ]
  },
  {
   "cell_type": "code",
   "execution_count": null,
   "metadata": {},
   "outputs": [],
   "source": [
    "train_test.loc[[810, 1832, 2434, 2914], 'Mas Vnr Type'] = 'BrkFace'\n",
    "#BrkFace is used instead of the mode ('None') as Mas Vnr Area is not 0"
   ]
  },
  {
   "cell_type": "code",
   "execution_count": null,
   "metadata": {
    "scrolled": true
   },
   "outputs": [],
   "source": [
    "train_test.loc[[810, 1832, 2434, 2914],'Mas Vnr Type']  "
   ]
  },
  {
   "cell_type": "code",
   "execution_count": null,
   "metadata": {},
   "outputs": [],
   "source": [
    "mask3= train_test['Mas Vnr Area']==0.0\n",
    "mask4=train_test['Mas Vnr Type']!=\"None\"\n",
    "train_test[mask3&mask4][['Mas Vnr Area', 'Mas Vnr Type']]"
   ]
  },
  {
   "cell_type": "code",
   "execution_count": null,
   "metadata": {},
   "outputs": [],
   "source": [
    "train_test.loc[[669, 1136,1187], 'Mas Vnr Area'] = train_test['Mas Vnr Area'].mean() "
   ]
  },
  {
   "cell_type": "code",
   "execution_count": null,
   "metadata": {},
   "outputs": [],
   "source": [
    "train_test.loc[[669, 1136,1187],'Mas Vnr Area']\n",
    "#Mas Vnr Area takes on the mean value"
   ]
  },
  {
   "cell_type": "code",
   "execution_count": null,
   "metadata": {},
   "outputs": [],
   "source": [
    "mask5= train_test['Mas Vnr Area']!=0\n",
    "mask6=train_test['Mas Vnr Type']==\"None\"\n",
    "train_test[mask5&mask6][['Mas Vnr Area', 'Mas Vnr Type']]"
   ]
  },
  {
   "cell_type": "code",
   "execution_count": null,
   "metadata": {},
   "outputs": [],
   "source": [
    "train_test.loc[[765, 1148, 1684], 'Mas Vnr Area'] = 0\n",
    "#Mas Vnr Type = None. Hence, Mas Vnr Area should be 0."
   ]
  },
  {
   "cell_type": "markdown",
   "metadata": {},
   "source": [
    "##### Looking at SalePrice"
   ]
  },
  {
   "cell_type": "code",
   "execution_count": null,
   "metadata": {},
   "outputs": [],
   "source": [
    "train_test.SalePrice.isnull().sum()\n",
    "#879 NaN values represents the saleprice in test set"
   ]
  },
  {
   "cell_type": "code",
   "execution_count": null,
   "metadata": {},
   "outputs": [],
   "source": [
    "#train_test.SalePrice.fillna(0, inplace=True)\n",
    "#test set sale prices are set at 0 while train set sale prices are > 0"
   ]
  },
  {
   "cell_type": "code",
   "execution_count": null,
   "metadata": {},
   "outputs": [],
   "source": [
    "#train_test.SalePrice.value_counts()\n",
    "#879 input from test set are set as 0"
   ]
  },
  {
   "cell_type": "code",
   "execution_count": null,
   "metadata": {},
   "outputs": [],
   "source": [
    "train_test.describe().T\n",
    "\n",
    "#We have accounted for all null/missing values\n",
    "#Note: NaN values of saleprice are of the test set"
   ]
  },
  {
   "cell_type": "code",
   "execution_count": null,
   "metadata": {},
   "outputs": [],
   "source": [
    "train_test.columns = [x.lower().replace(' ','_') for x in train_test.columns]"
   ]
  },
  {
   "cell_type": "code",
   "execution_count": null,
   "metadata": {},
   "outputs": [],
   "source": [
    "train_test.ms_subclass = train_test.ms_subclass.astype('str')"
   ]
  },
  {
   "cell_type": "code",
   "execution_count": null,
   "metadata": {},
   "outputs": [],
   "source": [
    "train_test_cleaned = train_test\n",
    "train_test_cleaned.info()"
   ]
  },
  {
   "cell_type": "code",
   "execution_count": null,
   "metadata": {},
   "outputs": [],
   "source": [
    "train_test_cleaned.to_csv('./train_test_cleaned.csv')"
   ]
  },
  {
   "cell_type": "markdown",
   "metadata": {},
   "source": [
    "# EDA "
   ]
  },
  {
   "cell_type": "markdown",
   "metadata": {},
   "source": [
    "#### Feature Selection (low variance)"
   ]
  },
  {
   "cell_type": "code",
   "execution_count": null,
   "metadata": {
    "scrolled": true
   },
   "outputs": [],
   "source": [
    "train_test_cleaned.var().sort_values(ascending=False).tail(30)"
   ]
  },
  {
   "cell_type": "code",
   "execution_count": null,
   "metadata": {},
   "outputs": [],
   "source": [
    "train_test_cleaned.drop('kitchen_abvgr', axis=1, inplace=True)\n",
    "train_test_cleaned.drop('bsmt_half_bath', axis=1, inplace=True)\n",
    "train_test_cleaned.drop('half_bath', axis=1, inplace=True)\n",
    "train_test_cleaned.drop('bsmt_full_bath', axis=1, inplace=True)\n",
    "train_test_cleaned.drop('full_bath', axis=1, inplace=True)\n",
    "train_test_cleaned.drop('bedroom_abvgr', axis=1, inplace=True)\n",
    "#features with variance < 1 will be dropped \n"
   ]
  },
  {
   "cell_type": "markdown",
   "metadata": {},
   "source": [
    "#### Coverting Ordinal features to numerical"
   ]
  },
  {
   "cell_type": "code",
   "execution_count": null,
   "metadata": {},
   "outputs": [],
   "source": [
    "print(train_test_cleaned.lot_shape.head())\n",
    "#print(train_test_cleaned[\"lot_shape\"].value_counts())\n",
    "cleanup_nums = {\"lot_shape\": {\"IR3\": 0, \"IR2\": 1, \"IR1\": 2, \"Reg\": 3}}\n",
    "train_test_cleaned.replace(cleanup_nums, inplace=True)\n",
    "print(train_test_cleaned[\"lot_shape\"].head())"
   ]
  },
  {
   "cell_type": "code",
   "execution_count": null,
   "metadata": {},
   "outputs": [],
   "source": [
    "print(train_test_cleaned.utilities.head())\n",
    "#print(train_test_cleaned[\"utilities\"].value_counts())\n",
    "cleanup_nums = {\"utilities\": {\"ELO\": 0, \"NoSeWa\": 1, \"NoSewr\": 2, \"AllPub\": 3}}\n",
    "train_test_cleaned.replace(cleanup_nums, inplace=True)\n",
    "print(train_test_cleaned[\"utilities\"].head())"
   ]
  },
  {
   "cell_type": "code",
   "execution_count": null,
   "metadata": {},
   "outputs": [],
   "source": [
    "print(train_test_cleaned.land_slope.head())\n",
    "#print(train_test_cleaned[\"land_slope\"].value_counts())\n",
    "cleanup_nums = {\"land_slope\": {\"Gtl\": 0, \"Mod\": 1, \"Sev\": 2}}\n",
    "train_test_cleaned.replace(cleanup_nums, inplace=True)\n",
    "print(train_test_cleaned[\"land_slope\"].head())"
   ]
  },
  {
   "cell_type": "code",
   "execution_count": null,
   "metadata": {},
   "outputs": [],
   "source": [
    "print(train_test_cleaned.exter_qual.head())\n",
    "#print(train_test_cleaned[\"exter_qual\"].value_counts())\n",
    "cleanup_nums = {\"exter_qual\": {\"Po\": 0, \"Fa\": 1, \"TA\": 2, \"Gd\": 3, \"Ex\": 4}}\n",
    "train_test_cleaned.replace(cleanup_nums, inplace=True)\n",
    "print(train_test_cleaned[\"exter_qual\"].head())"
   ]
  },
  {
   "cell_type": "code",
   "execution_count": null,
   "metadata": {},
   "outputs": [],
   "source": [
    "print(train_test_cleaned.exter_cond.head())\n",
    "#print(train_test_cleaned[\"exter_cond\"].value_counts())\n",
    "cleanup_nums = {\"exter_cond\": {\"Po\": 0, \"Fa\": 1, \"TA\": 2, \"Gd\": 3, \"Ex\": 4}}\n",
    "train_test_cleaned.replace(cleanup_nums, inplace=True)\n",
    "print(train_test_cleaned[\"exter_cond\"].head())"
   ]
  },
  {
   "cell_type": "code",
   "execution_count": null,
   "metadata": {},
   "outputs": [],
   "source": [
    "print(train_test_cleaned.bsmt_qual.head())\n",
    "#print(train_test_cleaned[\"bsmt_qual\"].value_counts())\n",
    "cleanup_nums = {\"bsmt_qual\": {\"NA\": 0, \"Po\": 1, \"Fa\": 2, \"TA\": 3, \"Gd\": 4, \"Ex\": 5}}\n",
    "train_test_cleaned.replace(cleanup_nums, inplace=True)\n",
    "print(train_test_cleaned[\"bsmt_qual\"].head())"
   ]
  },
  {
   "cell_type": "code",
   "execution_count": null,
   "metadata": {},
   "outputs": [],
   "source": [
    "print(train_test_cleaned.bsmt_cond.head())\n",
    "#print(train_test_cleaned[\"bsmt_cond\"].value_counts())\n",
    "cleanup_nums = {\"bsmt_cond\": {\"NA\": 0, \"Po\": 1, \"Fa\": 2, \"TA\": 3, \"Gd\": 4, \"Ex\": 5}}\n",
    "train_test_cleaned.replace(cleanup_nums, inplace=True)\n",
    "print(train_test_cleaned[\"bsmt_cond\"].head())"
   ]
  },
  {
   "cell_type": "code",
   "execution_count": null,
   "metadata": {},
   "outputs": [],
   "source": [
    "print(train_test_cleaned.bsmt_exposure.head())\n",
    "#print(train_test_cleaned[\"bsmt_exposure\"].value_counts())\n",
    "cleanup_nums = {\"bsmt_exposure\": {\"NA\": 0, \"No\": 1, \"Mn\": 2, \"Av\": 3, \"Gd\": 4}}\n",
    "train_test_cleaned.replace(cleanup_nums, inplace=True)\n",
    "print(train_test_cleaned[\"bsmt_exposure\"].head())"
   ]
  },
  {
   "cell_type": "code",
   "execution_count": null,
   "metadata": {},
   "outputs": [],
   "source": [
    "print(train_test_cleaned.bsmtfin_type_1.head())\n",
    "#print(train_test_cleaned[\"bsmtfin_type_1\"].value_counts())\n",
    "cleanup_nums = {\"bsmtfin_type_1\": {\"NA\": 0, \"Unf\": 1, \"LwQ\": 2, \"Rec\": 3, \"BLQ\": 4, \"ALQ\": 5, \"GLQ\": 6}}\n",
    "train_test_cleaned.replace(cleanup_nums, inplace=True)\n",
    "print(train_test_cleaned[\"bsmtfin_type_1\"].head())"
   ]
  },
  {
   "cell_type": "code",
   "execution_count": null,
   "metadata": {},
   "outputs": [],
   "source": [
    "print(train_test_cleaned.bsmtfin_type_2.head())\n",
    "#print(train_test_cleaned[\"bsmtfin_type_2\"].value_counts())\n",
    "cleanup_nums = {\"bsmtfin_type_2\": {\"NA\": 0, \"Unf\": 1, \"LwQ\": 2, \"Rec\": 3, \"BLQ\": 4, \"ALQ\": 5, \"GLQ\": 6}}\n",
    "train_test_cleaned.replace(cleanup_nums, inplace=True)\n",
    "print(train_test_cleaned[\"bsmtfin_type_2\"].head())"
   ]
  },
  {
   "cell_type": "code",
   "execution_count": null,
   "metadata": {},
   "outputs": [],
   "source": [
    "print(train_test_cleaned.heating_qc.head())\n",
    "#print(train_test_cleaned[\"heating_qc\"].value_counts())\n",
    "cleanup_nums = {\"heating_qc\": {\"Po\": 0, \"Fa\": 1, \"TA\": 2, \"Gd\": 3, \"Ex\": 4}}\n",
    "train_test_cleaned.replace(cleanup_nums, inplace=True)\n",
    "print(train_test_cleaned[\"heating_qc\"].head())"
   ]
  },
  {
   "cell_type": "code",
   "execution_count": null,
   "metadata": {},
   "outputs": [],
   "source": [
    "print(train_test_cleaned.electrical.head())\n",
    "#print(train_test_cleaned[\"electrical\"].value_counts())\n",
    "cleanup_nums = {\"electrical\": {\"Mix\": 0, \"FuseP\": 1, \"FuseF\": 2, \"FuseA\": 3, \"SBrkr\": 4}}\n",
    "train_test_cleaned.replace(cleanup_nums, inplace=True)\n",
    "print(train_test_cleaned[\"electrical\"].head())"
   ]
  },
  {
   "cell_type": "code",
   "execution_count": null,
   "metadata": {},
   "outputs": [],
   "source": [
    "print(train_test_cleaned.kitchen_qual.head())\n",
    "#print(train_test_cleaned[\"kitchen_qual\"].value_counts())\n",
    "cleanup_nums = {\"kitchen_qual\": {\"Po\": 0, \"Fa\": 1, \"TA\": 2, \"Gd\": 3, \"Ex\": 4}}\n",
    "train_test_cleaned.replace(cleanup_nums, inplace=True)\n",
    "print(train_test_cleaned[\"kitchen_qual\"].head())"
   ]
  },
  {
   "cell_type": "code",
   "execution_count": null,
   "metadata": {},
   "outputs": [],
   "source": [
    "print(train_test_cleaned.functional.head())\n",
    "#print(train_test_cleaned[\"functional\"].value_counts())\n",
    "cleanup_nums = {\"functional\": {\"Sal\": 0, \"Sev\": 1, \"Maj2\": 2, \"Maj1\": 3, \"Mod\": 4, \"Min2\": 5, \"Min1\": 6, \"Typ\": 7}}\n",
    "train_test_cleaned.replace(cleanup_nums, inplace=True)\n",
    "print(train_test_cleaned[\"functional\"].head())"
   ]
  },
  {
   "cell_type": "code",
   "execution_count": null,
   "metadata": {},
   "outputs": [],
   "source": [
    "print(train_test_cleaned.fireplace_qu.head())\n",
    "#print(train_test_cleaned[\"fireplace_qu\"].value_counts())\n",
    "cleanup_nums = {\"fireplace_qu\": {\"NA\": 0, \"Po\": 1, \"Fa\": 2, \"TA\": 3, \"Gd\": 4, \"Ex\": 5}}\n",
    "train_test_cleaned.replace(cleanup_nums, inplace=True)\n",
    "print(train_test_cleaned[\"fireplace_qu\"].head())"
   ]
  },
  {
   "cell_type": "code",
   "execution_count": null,
   "metadata": {},
   "outputs": [],
   "source": [
    "print(train_test_cleaned.garage_finish.head())\n",
    "#print(train_test_cleaned[\"garage_finish\"].value_counts())\n",
    "cleanup_nums = {\"garage_finish\": {\"NA\": 0, \"Unf\": 1, \"RFn\": 2, \"Fin\": 3}}\n",
    "train_test_cleaned.replace(cleanup_nums, inplace=True)\n",
    "print(train_test_cleaned[\"garage_finish\"].head())"
   ]
  },
  {
   "cell_type": "code",
   "execution_count": null,
   "metadata": {},
   "outputs": [],
   "source": [
    "print(train_test_cleaned.garage_qual.head())\n",
    "#print(train_test_cleaned[\"garage_qual\"].value_counts())\n",
    "cleanup_nums = {\"garage_qual\": {\"NA\": 0, \"Po\": 1, \"Fa\": 2, \"TA\": 3, \"Gd\": 4, \"Ex\": 5}}\n",
    "train_test_cleaned.replace(cleanup_nums, inplace=True)\n",
    "print(train_test_cleaned[\"garage_qual\"].head())"
   ]
  },
  {
   "cell_type": "code",
   "execution_count": null,
   "metadata": {},
   "outputs": [],
   "source": [
    "print(train_test_cleaned.garage_cond.head())\n",
    "#print(train_test_cleaned[\"garage_cond\"].value_counts())\n",
    "cleanup_nums = {\"garage_cond\": {\"NA\": 0, \"Po\": 1, \"Fa\": 2, \"TA\": 3, \"Gd\": 4, \"Ex\": 5}}\n",
    "train_test_cleaned.replace(cleanup_nums, inplace=True)\n",
    "print(train_test_cleaned[\"garage_cond\"].head())"
   ]
  },
  {
   "cell_type": "code",
   "execution_count": null,
   "metadata": {},
   "outputs": [],
   "source": [
    "print(train_test_cleaned.paved_drive.head())\n",
    "#print(train_test_cleaned[\"paved_drive\"].value_counts())\n",
    "cleanup_nums = {\"paved_drive\": {\"N\": 0, \"P\": 1, \"Y\": 2}}\n",
    "train_test_cleaned.replace(cleanup_nums, inplace=True)\n",
    "print(train_test_cleaned[\"paved_drive\"].head())"
   ]
  },
  {
   "cell_type": "code",
   "execution_count": null,
   "metadata": {},
   "outputs": [],
   "source": [
    "print(train_test_cleaned.pool_qc.head())\n",
    "#print(train_test_cleaned[\"pool_qc\"].value_counts())\n",
    "cleanup_nums = {\"pool_qc\": {\"NA\": 0, \"Fa\": 1, \"TA\": 2, \"Gd\": 3, \"Ex\": 4}}\n",
    "train_test_cleaned.replace(cleanup_nums, inplace=True)\n",
    "print(train_test_cleaned[\"pool_qc\"].head())"
   ]
  },
  {
   "cell_type": "code",
   "execution_count": null,
   "metadata": {},
   "outputs": [],
   "source": [
    "print(train_test_cleaned.fence.head())\n",
    "#print(train_test_cleaned[\"fence\"].value_counts())\n",
    "cleanup_nums = {\"fence\": {\"NA\": 0, \"MnWw\": 1, \"GdWo\": 2, \"MnPrv\": 3, \"GdPrv\": 4}}\n",
    "train_test_cleaned.replace(cleanup_nums, inplace=True)\n",
    "print(train_test_cleaned[\"fence\"].head())"
   ]
  },
  {
   "cell_type": "markdown",
   "metadata": {},
   "source": [
    "#### Accounting for outliers"
   ]
  },
  {
   "cell_type": "code",
   "execution_count": null,
   "metadata": {},
   "outputs": [],
   "source": [
    "train_test_cleaned_int = train_test_cleaned.select_dtypes(include = int)\n",
    "train_test_cleaned_flt1 = train_test_cleaned_int.astype(float)\n",
    "train_test_cleaned_flt = train_test_cleaned.select_dtypes(include = float)\n",
    "train_test_cleaned_num = pd.concat([train_test_cleaned_flt1, train_test_cleaned_flt], sort=False, axis=1)"
   ]
  },
  {
   "cell_type": "code",
   "execution_count": null,
   "metadata": {},
   "outputs": [],
   "source": [
    "train_test_cleaned_num.hist(figsize=(20, 20));"
   ]
  },
  {
   "cell_type": "code",
   "execution_count": null,
   "metadata": {},
   "outputs": [],
   "source": [
    "train_test_cleaned_num.describe().T"
   ]
  },
  {
   "cell_type": "code",
   "execution_count": null,
   "metadata": {},
   "outputs": [],
   "source": [
    "def outlier(x,y):\n",
    "    t=x.dropna()\n",
    "    skew_value=skew(t)\n",
    "    y=np.log1p(y)\n",
    "    print('sample length: %s  and skew: %s'%(len(x),skew_value))\n",
    "    fig,axs=plt.subplots(1,2,figsize=(8,3))\n",
    "    sns.boxplot(x,orient='v',ax=axs[0])\n",
    "    sns.regplot(x,y,ax=axs[1])\n",
    "    plt.tight_layout()"
   ]
  },
  {
   "cell_type": "code",
   "execution_count": null,
   "metadata": {},
   "outputs": [],
   "source": [
    "outlier(train_test_cleaned.lot_frontage, train_test_cleaned.saleprice)"
   ]
  },
  {
   "cell_type": "code",
   "execution_count": null,
   "metadata": {},
   "outputs": [],
   "source": [
    "outlier(train_test_cleaned.overall_qual, train_test_cleaned.saleprice)"
   ]
  },
  {
   "cell_type": "code",
   "execution_count": null,
   "metadata": {},
   "outputs": [],
   "source": [
    "outlier(train_test_cleaned.overall_cond, train_test_cleaned.saleprice)"
   ]
  },
  {
   "cell_type": "code",
   "execution_count": null,
   "metadata": {},
   "outputs": [],
   "source": [
    "outlier(train_test_cleaned['1st_flr_sf'], train_test_cleaned.saleprice)"
   ]
  },
  {
   "cell_type": "code",
   "execution_count": null,
   "metadata": {},
   "outputs": [],
   "source": [
    "outlier(train_test_cleaned['2nd_flr_sf'], train_test_cleaned.saleprice)"
   ]
  },
  {
   "cell_type": "code",
   "execution_count": null,
   "metadata": {},
   "outputs": [],
   "source": [
    "outlier(train_test_cleaned.low_qual_fin_sf, train_test_cleaned.saleprice)"
   ]
  },
  {
   "cell_type": "code",
   "execution_count": null,
   "metadata": {},
   "outputs": [],
   "source": [
    "outlier(train_test_cleaned.gr_liv_area, train_test_cleaned.saleprice)"
   ]
  },
  {
   "cell_type": "code",
   "execution_count": null,
   "metadata": {},
   "outputs": [],
   "source": [
    "outlier(train_test_cleaned.wood_deck_sf, train_test_cleaned.saleprice)"
   ]
  },
  {
   "cell_type": "code",
   "execution_count": null,
   "metadata": {},
   "outputs": [],
   "source": [
    "outlier(train_test_cleaned.enclosed_porch, train_test_cleaned.saleprice)"
   ]
  },
  {
   "cell_type": "code",
   "execution_count": null,
   "metadata": {},
   "outputs": [],
   "source": [
    "outlier(train_test_cleaned.open_porch_sf, train_test_cleaned.saleprice)"
   ]
  },
  {
   "cell_type": "code",
   "execution_count": null,
   "metadata": {},
   "outputs": [],
   "source": [
    "outlier(train_test_cleaned['3ssn_porch'], train_test_cleaned.saleprice)"
   ]
  },
  {
   "cell_type": "code",
   "execution_count": null,
   "metadata": {},
   "outputs": [],
   "source": [
    "outlier(train_test_cleaned.screen_porch, train_test_cleaned.saleprice)"
   ]
  },
  {
   "cell_type": "code",
   "execution_count": null,
   "metadata": {},
   "outputs": [],
   "source": [
    "outlier(train_test_cleaned.exter_qual, train_test_cleaned.saleprice)"
   ]
  },
  {
   "cell_type": "code",
   "execution_count": null,
   "metadata": {},
   "outputs": [],
   "source": [
    "outlier(train_test_cleaned.exter_cond, train_test_cleaned.saleprice)"
   ]
  },
  {
   "cell_type": "code",
   "execution_count": null,
   "metadata": {},
   "outputs": [],
   "source": [
    "outlier(train_test_cleaned.heating_qc, train_test_cleaned.saleprice)"
   ]
  },
  {
   "cell_type": "code",
   "execution_count": null,
   "metadata": {},
   "outputs": [],
   "source": [
    "outlier(train_test_cleaned.electrical, train_test_cleaned.saleprice)"
   ]
  },
  {
   "cell_type": "code",
   "execution_count": null,
   "metadata": {},
   "outputs": [],
   "source": [
    "outlier(train_test_cleaned.mas_vnr_area, train_test_cleaned.saleprice)"
   ]
  },
  {
   "cell_type": "code",
   "execution_count": null,
   "metadata": {},
   "outputs": [],
   "source": [
    "outlier(train_test_cleaned.bsmtfin_sf_1, train_test_cleaned.saleprice)"
   ]
  },
  {
   "cell_type": "code",
   "execution_count": null,
   "metadata": {},
   "outputs": [],
   "source": [
    "outlier(train_test_cleaned.bsmtfin_sf_2, train_test_cleaned.saleprice)"
   ]
  },
  {
   "cell_type": "code",
   "execution_count": null,
   "metadata": {},
   "outputs": [],
   "source": [
    "outlier(train_test_cleaned.bsmt_unf_sf, train_test_cleaned.saleprice)"
   ]
  },
  {
   "cell_type": "code",
   "execution_count": null,
   "metadata": {},
   "outputs": [],
   "source": [
    "outlier(train_test_cleaned.total_bsmt_sf, train_test_cleaned.saleprice)"
   ]
  },
  {
   "cell_type": "code",
   "execution_count": null,
   "metadata": {},
   "outputs": [],
   "source": [
    "outlier(train_test_cleaned.year_built, train_test_cleaned.saleprice)"
   ]
  },
  {
   "cell_type": "code",
   "execution_count": null,
   "metadata": {},
   "outputs": [],
   "source": [
    "outlier(train_test_cleaned.yr_sold, train_test_cleaned.saleprice)"
   ]
  },
  {
   "cell_type": "code",
   "execution_count": null,
   "metadata": {},
   "outputs": [],
   "source": [
    "outlier(train_test_cleaned.garage_area, train_test_cleaned.saleprice)"
   ]
  },
  {
   "cell_type": "code",
   "execution_count": null,
   "metadata": {},
   "outputs": [],
   "source": [
    "outlier(train_test_cleaned['year_remod/add'], train_test_cleaned.saleprice)"
   ]
  },
  {
   "cell_type": "code",
   "execution_count": null,
   "metadata": {},
   "outputs": [],
   "source": [
    "train_test_cleaned_int = train_test_cleaned.select_dtypes(include = int)\n",
    "train_test_cleaned_flt1 = train_test_cleaned_int.astype(float)\n",
    "train_test_cleaned_flt = train_test_cleaned.select_dtypes(include = float)\n",
    "train_test_cleaned_num = pd.concat([train_test_cleaned_flt1, train_test_cleaned_flt], sort=False, axis=1)"
   ]
  },
  {
   "cell_type": "markdown",
   "metadata": {},
   "source": [
    "#### Checking for multicollinearity"
   ]
  },
  {
   "cell_type": "code",
   "execution_count": null,
   "metadata": {},
   "outputs": [],
   "source": [
    "plt.figure(figsize=(150,30))\n",
    "mask = np.zeros_like(train_test_cleaned.corr())\n",
    "mask[np.triu_indices_from(mask)] = True\n",
    "sns.heatmap(train_test_cleaned.corr(), mask=mask, annot=True, square=True, cmap='Blues')"
   ]
  },
  {
   "cell_type": "markdown",
   "metadata": {},
   "source": [
    "#### Human feature selection "
   ]
  },
  {
   "cell_type": "markdown",
   "metadata": {},
   "source": [
    "The following are dropped as:\n",
    "    - to prevent multicollinearity from forming in our model \n",
    "    - little to no correlation with our target\n",
    "    - does not add significant value to our model"
   ]
  },
  {
   "cell_type": "markdown",
   "metadata": {},
   "source": [
    "##### Multicollinearity"
   ]
  },
  {
   "cell_type": "code",
   "execution_count": null,
   "metadata": {},
   "outputs": [],
   "source": [
    "train_test_cleaned.drop('1st_flr_sf', axis=1, inplace=True)\n",
    "train_test_cleaned.drop('2nd_flr_sf', axis=1, inplace=True)\n",
    "# total_bsmt_sf can explain saleprice better\n",
    "train_test_cleaned.drop('totrms_abvgrd', axis=1, inplace=True) # gr_liv_area can explain saleprice better\n",
    "train_test_cleaned.drop('exter_qual', axis=1, inplace=True) #overall_qual can explain saleprice better\n",
    "train_test_cleaned.drop('garage_cars', axis=1, inplace=True) \n",
    "#garage_area shows the total square feet of a particular garage"
   ]
  },
  {
   "cell_type": "markdown",
   "metadata": {},
   "source": [
    "##### Little to no correlation"
   ]
  },
  {
   "cell_type": "code",
   "execution_count": null,
   "metadata": {},
   "outputs": [],
   "source": [
    "train_test_cleaned.drop('pid', axis=1, inplace=True)\n",
    "train_test_cleaned.drop('utilities', axis=1, inplace=True)\n",
    "train_test_cleaned.drop('land_slope', axis=1, inplace=True)\n",
    "train_test_cleaned.drop('functional', axis=1, inplace=True) \n",
    "train_test_cleaned.drop('overall_cond', axis=1, inplace=True)\n",
    "train_test_cleaned.drop('exter_cond', axis=1, inplace=True)\n",
    "train_test_cleaned.drop('low_qual_fin_sf', axis=1, inplace=True)\n",
    "train_test_cleaned.drop('misc_val', axis=1, inplace=True)\n",
    "train_test_cleaned.drop('mo_sold', axis=1, inplace=True) \n",
    "train_test_cleaned.drop('fence', axis=1, inplace=True) "
   ]
  },
  {
   "cell_type": "markdown",
   "metadata": {},
   "source": [
    "##### Not significant to model"
   ]
  },
  {
   "cell_type": "code",
   "execution_count": null,
   "metadata": {},
   "outputs": [],
   "source": [
    "train_test_cleaned.drop('bsmtfin_sf_1', axis=1, inplace=True)\n",
    "train_test_cleaned.drop('bsmtfin_sf_2', axis=1, inplace=True) \n",
    "train_test_cleaned.drop('bsmt_unf_sf', axis=1, inplace=True) \n",
    "#total_bsmt_sf includes these three variables\n",
    "\n",
    "train_test_cleaned.drop('misc_feature', axis=1, inplace=True) \n",
    "#since misc_val does not add value to our target, there is no point keeping misc_feature\n",
    "\n",
    "train_test_cleaned.drop('street', axis=1, inplace=True) \n",
    "train_test_cleaned.drop('alley', axis=1, inplace=True) \n",
    "train_test_cleaned.drop('land_contour', axis=1, inplace=True) \n",
    "train_test_cleaned.drop('lot_config', axis=1, inplace=True) \n",
    "\n",
    "train_test_cleaned.drop('condition_1', axis=1, inplace=True) \n",
    "train_test_cleaned.drop('exterior_1st', axis=1, inplace=True) \n",
    "#looking for >=2 conditions may affect saleprice more\n",
    "\n",
    "train_test_cleaned.drop('mas_vnr_type', axis=1, inplace=True) \n",
    "train_test_cleaned.drop('foundation', axis=1, inplace=True) \n",
    "train_test_cleaned.drop('roof_matl', axis=1, inplace=True) \n",
    "#can be easily replaced once bought over\n",
    "\n",
    "train_test_cleaned.drop('garage_yr_blt', axis=1, inplace=True) \n",
    "#garage_cond and garage_qual can be a better gauge to show how the overall condition of the garage is"
   ]
  }
 ],
 "metadata": {
  "kernelspec": {
   "display_name": "Python 3",
   "language": "python",
   "name": "python3"
  },
  "language_info": {
   "codemirror_mode": {
    "name": "ipython",
    "version": 3
   },
   "file_extension": ".py",
   "mimetype": "text/x-python",
   "name": "python",
   "nbconvert_exporter": "python",
   "pygments_lexer": "ipython3",
   "version": "3.7.3"
  }
 },
 "nbformat": 4,
 "nbformat_minor": 2
}
