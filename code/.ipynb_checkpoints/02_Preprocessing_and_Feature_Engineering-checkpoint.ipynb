{
 "cells": [
  {
   "cell_type": "markdown",
   "metadata": {},
   "source": [
    "## Problem Statement\n",
    "\n",
    "what should people look out for when investing in housing and where? [The Ames Housing Dataset]\n",
    "\n",
    "TL;DR\n",
    "Linear Regression, LASSO and Ridge models will be developed to see which features have the most significant effect on the price of a house.\n",
    "\n",
    "\n",
    "We will be comparing against the linear regression and the LASSO model of our data to determine which model fared better. A better model is one with lesser features (with high coefficients) and ideally a high R-squared. R-squared can be perceive as the proportion of the variance in the dependent variable that is predictable from the independent variable."
   ]
  },
  {
   "cell_type": "code",
   "execution_count": null,
   "metadata": {},
   "outputs": [],
   "source": [
    "import pandas as pd\n",
    "import numpy as np\n",
    "import matplotlib.pyplot as plt\n",
    "%matplotlib inline\n",
    "import seaborn as sns\n",
    "\n",
    "from sklearn.model_selection import train_test_split, cross_val_score\n",
    "from sklearn.linear_model import LinearRegression, Lasso, LassoCV, RidgeCV\n",
    "from sklearn.preprocessing import StandardScaler\n",
    "from sklearn.metrics import r2_score\n",
    "\n",
    "from scipy.stats import skew"
   ]
  },
  {
   "cell_type": "code",
   "execution_count": null,
   "metadata": {},
   "outputs": [],
   "source": [
    "pd.set_option('display.width', 500)\n",
    "pd.set_option('display.max_rows', 500)\n",
    "pd.set_option('display.max_columns', 120)"
   ]
  },
  {
   "cell_type": "markdown",
   "metadata": {},
   "source": [
    "#### Feature Engineering"
   ]
  },
  {
   "cell_type": "markdown",
   "metadata": {},
   "source": [
    "- Features that have very little/high correlation to saleprice/other features and were NOT dropped are used in feature engineering to determine if correlation can be improved"
   ]
  },
  {
   "cell_type": "code",
   "execution_count": null,
   "metadata": {},
   "outputs": [],
   "source": [
    "train_test_cleaned['prop_age'] = train_test_cleaned['yr_sold'] - train_test_cleaned['year_built']\n",
    "train_test_cleaned.drop('yr_sold', axis=1, inplace=True) \n",
    "train_test_cleaned.drop('year_built', axis=1, inplace=True) \n",
    "# to determine whether age of house will affect sale price"
   ]
  },
  {
   "cell_type": "code",
   "execution_count": null,
   "metadata": {},
   "outputs": [],
   "source": [
    "train_test_cleaned['pool'] = train_test_cleaned['pool_area'] * train_test_cleaned['pool_qc']\n",
    "train_test_cleaned.drop('pool_area', axis=1, inplace=True) \n",
    "train_test_cleaned.drop('pool_qc', axis=1, inplace=True) \n",
    "# to determine whether the pool feature will affect sale price"
   ]
  },
  {
   "cell_type": "code",
   "execution_count": null,
   "metadata": {},
   "outputs": [],
   "source": [
    "train_test_cleaned['bsmt'] = train_test_cleaned['bsmt_qual'] * train_test_cleaned['bsmt_cond']\n",
    "train_test_cleaned.drop('bsmt_qual', axis=1, inplace=True) \n",
    "train_test_cleaned.drop('bsmt_cond', axis=1, inplace=True) \n",
    "# to determine whether the basement quality and condition will affect sale price"
   ]
  },
  {
   "cell_type": "code",
   "execution_count": null,
   "metadata": {},
   "outputs": [],
   "source": [
    "train_test_cleaned['fireplace'] = train_test_cleaned['fireplaces'] * train_test_cleaned['fireplace_qu']\n",
    "train_test_cleaned.drop('fireplaces', axis=1, inplace=True) \n",
    "train_test_cleaned.drop('fireplace_qu', axis=1, inplace=True) \n",
    "# to determine whether fireplace will affect sale price"
   ]
  },
  {
   "cell_type": "code",
   "execution_count": null,
   "metadata": {},
   "outputs": [],
   "source": [
    "train_test_cleaned['garage_aes'] = train_test_cleaned['garage_finish'] * train_test_cleaned['garage_qual'] * train_test_cleaned['garage_cond']\n",
    "train_test_cleaned.drop('garage_finish', axis=1, inplace=True)\n",
    "train_test_cleaned.drop('garage_cond', axis=1, inplace=True)\n",
    "train_test_cleaned.drop('garage_qual', axis=1, inplace=True) "
   ]
  },
  {
   "cell_type": "code",
   "execution_count": null,
   "metadata": {
    "scrolled": true
   },
   "outputs": [],
   "source": [
    "train_test_cleaned.describe().T"
   ]
  },
  {
   "cell_type": "markdown",
   "metadata": {},
   "source": [
    "#### Dummies for nominal data"
   ]
  },
  {
   "cell_type": "code",
   "execution_count": null,
   "metadata": {},
   "outputs": [],
   "source": [
    "train_test_c_nom = train_test_cleaned.select_dtypes(include=object)\n",
    "train_test_c_nom.info()"
   ]
  },
  {
   "cell_type": "code",
   "execution_count": null,
   "metadata": {},
   "outputs": [],
   "source": [
    "x = pd.get_dummies(train_test_c_nom, drop_first=True)"
   ]
  },
  {
   "cell_type": "code",
   "execution_count": null,
   "metadata": {},
   "outputs": [],
   "source": [
    "x['id'] = train_test_cleaned.id"
   ]
  },
  {
   "cell_type": "code",
   "execution_count": null,
   "metadata": {},
   "outputs": [],
   "source": [
    "plt.figure(figsize=(150,30))\n",
    "mask = np.zeros_like(train_test_cleaned.corr())\n",
    "mask[np.triu_indices_from(mask)] = True\n",
    "sns.heatmap(train_test_cleaned.corr(), mask=mask, annot=True, square=True, cmap='Blues')"
   ]
  },
  {
   "cell_type": "code",
   "execution_count": null,
   "metadata": {},
   "outputs": [],
   "source": [
    "train_test_cleaned.drop('pool', axis=1, inplace=True) "
   ]
  },
  {
   "cell_type": "code",
   "execution_count": null,
   "metadata": {
    "scrolled": true
   },
   "outputs": [],
   "source": [
    "train_test_fin = pd.merge(train_test_cleaned, x, how='outer', on='id')"
   ]
  },
  {
   "cell_type": "code",
   "execution_count": null,
   "metadata": {},
   "outputs": [],
   "source": [
    "train_test_fin.drop(columns= ['ms_subclass', 'ms_zoning', 'condition_2', 'bldg_type', 'house_style', \n",
    "                    'roof_style', 'exterior_2nd', 'bsmtfin_type_1', 'bsmtfin_type_2', 'heating', 'central_air', \n",
    "                    'garage_type', 'sale_type'], axis=1, inplace=True)"
   ]
  },
  {
   "cell_type": "code",
   "execution_count": null,
   "metadata": {},
   "outputs": [],
   "source": [
    "train_test_fin.describe().T\n"
   ]
  },
  {
   "cell_type": "code",
   "execution_count": null,
   "metadata": {},
   "outputs": [],
   "source": [
    "test_final = train_test_fin[train_test_fin.saleprice.isnull()]\n",
    "test_final = test_final.drop(columns='saleprice', axis=1)"
   ]
  },
  {
   "cell_type": "code",
   "execution_count": null,
   "metadata": {},
   "outputs": [],
   "source": [
    "train_nfinal = train_test_fin.dropna()\n",
    "train_final = train_nfinal.drop(columns='neighborhood', axis=1)\n",
    "#delete rows with saleprice = null and save as train_c"
   ]
  },
  {
   "cell_type": "code",
   "execution_count": null,
   "metadata": {},
   "outputs": [],
   "source": [
    "test_final.to_csv('./test_final.csv')\n",
    "train_final.to_csv('./train_final.csv')"
   ]
  },
  {
   "cell_type": "markdown",
   "metadata": {},
   "source": [
    "##### Ammending outliers in train_final"
   ]
  },
  {
   "cell_type": "code",
   "execution_count": null,
   "metadata": {},
   "outputs": [],
   "source": [
    "train_final=train_final[train_final.open_porch_sf<600]\n",
    "train_final=train_final[train_final.screen_porch<550]\n",
    "train_final=train_final[train_final.lot_frontage<250]\n",
    "train_final=train_final[train_final.enclosed_porch<800]\n",
    "train_final=train_final[train_final.wood_deck_sf<1250]\n",
    "train_final=train_final[train_final.total_bsmt_sf<4000]\n",
    "train_final=train_final[train_final.mas_vnr_area<1500]\n",
    "train_final=train_final[train_final.gr_liv_area<3800]\n",
    "train_final=train_final[train_final['3ssn_porch']<450]"
   ]
  },
  {
   "cell_type": "code",
   "execution_count": null,
   "metadata": {},
   "outputs": [],
   "source": [
    "train_final.drop(columns='id', axis=1, inplace=True)"
   ]
  },
  {
   "cell_type": "code",
   "execution_count": null,
   "metadata": {},
   "outputs": [],
   "source": [
    "train_final.head()"
   ]
  }
 ],
 "metadata": {
  "kernelspec": {
   "display_name": "Python 3",
   "language": "python",
   "name": "python3"
  },
  "language_info": {
   "codemirror_mode": {
    "name": "ipython",
    "version": 3
   },
   "file_extension": ".py",
   "mimetype": "text/x-python",
   "name": "python",
   "nbconvert_exporter": "python",
   "pygments_lexer": "ipython3",
   "version": "3.7.3"
  }
 },
 "nbformat": 4,
 "nbformat_minor": 2
}
